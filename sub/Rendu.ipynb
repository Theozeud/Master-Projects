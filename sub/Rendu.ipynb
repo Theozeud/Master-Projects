{
 "cells": [
  {
   "cell_type": "markdown",
   "metadata": {},
   "source": [
    "# Rendu intermédaire du 6 octobre 2023 par Théo Duez"
   ]
  },
  {
   "cell_type": "markdown",
   "metadata": {},
   "source": [
    "## Présentation du code\n",
    "\n",
    "Importons dans un premier temps quelques packages qui nous sera utile :"
   ]
  },
  {
   "cell_type": "code",
   "execution_count": null,
   "metadata": {},
   "outputs": [],
   "source": [
    "using Plots             # For plotting results\n",
    "using LaTeXStrings      # For the utilisation of Latex in Plots\n",
    "using Interpolations    # For interpolation used in the animation\n",
    "using LinearAlgebra     # For matrix computation\n",
    "using FFTW              # For Fourier computation"
   ]
  },
  {
   "cell_type": "markdown",
   "metadata": {},
   "source": [
    "Voici maintenant le code qui permet de calculer la dynamique au cours du temps de l'équation de schödinger avec une méthode pseudospectrale en espace et de splitting en temps."
   ]
  },
  {
   "cell_type": "code",
   "execution_count": null,
   "metadata": {},
   "outputs": [],
   "source": [
    "function dynamics(ψ₀fun::Base.Callable = x->1/(2π)^(1/4)*exp(-x^2/4), Vfun::Base.Callable = (x,t) -> 0; L::Real = 20, Nₓ::Int = 1000, T::Real = 4, Nₜ::Int = 1000)\n",
    "\n",
    "    # INPUTS\n",
    "    #   - L     : Length difining the spatial domain [-L/2, L/2] on wich we perform the simulation,\n",
    "    #   - T     : Duration defining the temporal domain [0,T] on wich we perform the simulation,\n",
    "    #   - ψ₀fun : Initial condition at time 0,\n",
    "    #   - Vfun  : Potential in the spatial domain,\n",
    "    #   - Nₓ    : Number of points used for an uniform discretization of the space,\n",
    "    #   - Nₜ     : Number of points used for an uniform discretization of the time.\n",
    "\n",
    "    # OUTPUTS\n",
    "    #   - matrix of dimension Nₓ×(Nₜ+1) the columns of which correspond to the solution at each time beginning at the initial state.\n",
    "\n",
    "    # Space discretization\n",
    "    space = range(-L/2,L/2,Nₓ+1)[1:Nₓ]\n",
    "\n",
    "    # Initial condition\n",
    "    ψ₀ = ψ₀fun.(space)\n",
    "    \n",
    "    # Timestep\n",
    "    Δt = eltype(ψ₀)(T/Nₜ)\n",
    "\n",
    "    # Time discretization\n",
    "    time = range(Δt,T,Nₜ)\n",
    "    \n",
    "    # Potential\n",
    "    V = hcat([Vfun.(space,tᵢ) for tᵢ in time]...)\n",
    "\n",
    "    # Matrix to reach next each step\n",
    "    stepΔ = exp.(-im/2*eltype(ψ₀)(0.5)*(fftfreq(Nₓ,Nₓ)*2*π/L).^2*Δt)\n",
    "    stepV = exp.(-im*V*Δt)\n",
    "\n",
    "    # Matrix to store the solution\n",
    "    sol = zeros(Complex, Nₓ,Nₜ+1)\n",
    "    sol[:,1]=ψ₀\n",
    "    \n",
    "    # Loop to compute the solution for each time step\n",
    "    for i in 2:Nₜ+1\n",
    "        sol[:,i] = ifft(stepΔ .* fft(stepV[i] .* sol[:,i-1]))\n",
    "    end\n",
    "    sol\n",
    "end"
   ]
  },
  {
   "cell_type": "markdown",
   "metadata": {},
   "source": [
    "Voici maintenant le code correspondant pour l'animation du résultat :"
   ]
  },
  {
   "cell_type": "code",
   "execution_count": null,
   "metadata": {},
   "outputs": [],
   "source": [
    "function animation(ψ::Matrix; d::Real = 10, fps::Int = 30, L::Real = 10)\n",
    "\n",
    "    # INPUTS\n",
    "    #   - ψ     : Solution Matrix given by the dynamics function,\n",
    "    #   - d     : Duration wanted for the animation,\n",
    "    #   - fps   : Number of frame per secondes,\n",
    "    #   - L     : Width of the spatial domain (only used for dispay),\n",
    "\n",
    "    # OUTPUTS\n",
    "    #   - An animation through the time of the real, imaginary and module part of the wave function ψ.\n",
    "    \n",
    "    # Some assertions to check validity of parameters\n",
    "    @assert L > 0\n",
    "    @assert d > 0\n",
    "    @assert fps > 0\n",
    "    \n",
    "    # set the min and maximum values of the plot, to scale the axis\n",
    "    m = min(0, min(real.(ψ)...), min(imag.(ψ)...))\n",
    "    M = max(abs.(ψ)...)\n",
    "\n",
    "    # Total frame\n",
    "    nbframe = fps * d\n",
    "\n",
    "    # Space and time vector\n",
    "    Nₓ,Nₜ = size(ψ)\n",
    "    time = range(0,1,Nₜ)\n",
    "    space = range(-L/2,L/2,Nₓ+1)[1:Nₓ]\n",
    "\n",
    "    anim = @animate for n in 1:nbframe\n",
    "\n",
    "        t = n / (fps*d)\n",
    "\n",
    "        linear_interpolation(time, ψ[1,:])\n",
    "        linear_interpolation(time, ψ[1,:])(t)\n",
    "\n",
    "        interp_linear = [linear_interpolation(time, ψ[i,:])(t) for i in eachindex(ψ[:,1])]\n",
    "        \n",
    "        pltreal = plot(space,real.(interp_linear), label = \"Real\", size=(1200,400), xlim = [-L/2,L/2], ylim= [m,M], legend=:bottomleft, lc=:green)\n",
    "        pltimag = plot(space,imag.(interp_linear), label = \"Imag\", size=(1200,400), xlim = [-L/2,L/2], ylim= [m,M], legend=:bottomleft, lc=:red)\n",
    "        pltabs  = plot(space,abs.(interp_linear), label = \"Abs\",  size=(1200,400), xlim = [-L/2,L/2], ylim= [m,M], legend=:bottomleft, lc=:black)\n",
    "\n",
    "        plot(pltreal, pltimag, pltabs, layout=(1,3), plot_title=\"Approximation by the Fourier Transform\")\n",
    "\n",
    "    end\n",
    "\n",
    "    gif(anim, fps = fps)\n",
    "end"
   ]
  },
  {
   "cell_type": "markdown",
   "metadata": {},
   "source": [
    "## Exemples\n",
    "\n",
    "Montrons quelques exemples. Créeons pour cela une fonction qui générera nos conditions initiales.\n"
   ]
  },
  {
   "cell_type": "code",
   "execution_count": null,
   "metadata": {},
   "outputs": [],
   "source": [
    "function gaussian(μ::Real = 0.0, σ::Real = 1.0, p₀::Real = 0.0)\n",
    "    x-> 1/(2π*σ^2)^(1/4)*exp(-(x-μ)^2/(4*σ^2))*exp(im*p₀*x)\n",
    "end"
   ]
  },
  {
   "cell_type": "markdown",
   "metadata": {},
   "source": [
    "\n",
    "### Potentiel nul avec condition initiale gaussienne immobile"
   ]
  },
  {
   "cell_type": "code",
   "execution_count": null,
   "metadata": {},
   "outputs": [],
   "source": [
    "# Paramètres de simulation\n",
    "T = 50\n",
    "L = 10\n",
    "Nₜ = 100\n",
    "Nₓ = 100\n",
    "\n",
    "# Potential\n",
    "V = (x,t) -> 0\n",
    "\n",
    "# Intial Condition\n",
    "ψ₀ = gaussian(0.0, 1.0, 0.0)\n",
    "\n",
    "# Computation of the dynamics\n",
    "sol = dynamics(ψ₀, V, L = L, Nₓ=Nₓ,T=T,Nₜ=Nₜ)\n",
    "\n",
    "# Animation\n",
    "animation(sol; L = L)"
   ]
  },
  {
   "cell_type": "markdown",
   "metadata": {},
   "source": [
    "### Potentiel nul avec condition initiale gaussienne mobile"
   ]
  },
  {
   "cell_type": "code",
   "execution_count": null,
   "metadata": {},
   "outputs": [],
   "source": [
    "# Paramètres de simulation\n",
    "T = 50\n",
    "L = 10\n",
    "Nₜ = 100\n",
    "Nₓ = 100\n",
    "\n",
    "# Potential\n",
    "V = (x,t) -> 0\n",
    "\n",
    "# Intial Condition\n",
    "ψ₀ = gaussian(0.0, 1.0, 1.0)\n",
    "\n",
    "# Computation of the dynamics\n",
    "sol = dynamics(ψ₀, V, L = L, Nₓ=Nₓ,T=T,Nₜ=Nₜ)\n",
    "\n",
    "# Animation\n",
    "animation(sol; L = L)"
   ]
  },
  {
   "cell_type": "markdown",
   "metadata": {},
   "source": [
    "### Barièrre de potentiel avec condition initiale gaussienne immobile"
   ]
  },
  {
   "cell_type": "code",
   "execution_count": null,
   "metadata": {},
   "outputs": [],
   "source": [
    "# Paramètres de simulation\n",
    "T = 10\n",
    "L = 50\n",
    "Nₜ = 1000\n",
    "Nₓ = 1000\n",
    "\n",
    "# Potential\n",
    "V = (x,t) -> abs(x)>L/4 ? 10.0 : 0.0\n",
    "\n",
    "# Intial Condition\n",
    "ψ₀ = gaussian(0.0, 1.0, 0.0)\n",
    "\n",
    "# Computation of the dynamics\n",
    "sol = dynamics(ψ₀, V, L = L, Nₓ=Nₓ,T=T,Nₜ=Nₜ)\n",
    "\n",
    "# Animation\n",
    "animation(sol; L = L, d = 20)"
   ]
  },
  {
   "cell_type": "markdown",
   "metadata": {},
   "source": [
    "On observe bien une onde evanescente qui se propage au delà de la barière de potentiel. Cependant, la simualtion présente des phases d'évolution rapide et des phases d'évolution lente. Il se pourrait que le schéma numérique soit instable pour ce type de potentiel."
   ]
  },
  {
   "cell_type": "markdown",
   "metadata": {},
   "source": [
    "## Compléxité (Partie non finie)\n",
    "\n",
    "La complexité de la transformée de fourier rapide et de son inverse est O(Nₓlog(Nₓ)). Les multiplications points par points sont en O(Nₓ) donc une complexité à l'intérieur de la boucle en O(Nₓlog(Nₓ)). Comme nous effectuons ces opérations à chaque pas de temps, la complexité gobale est O(NₜNₓlog(Nₓ)), les autres opérations hors de la boucle ayant une complexité en O(NₓNₜ) (due à la création de la matrice V) négligeable. \n",
    "\n",
    "Vérifions cela dans un premier temps t(Nₓ,Nₜ) pour la complexité spatiale en mesurant le temps que prend l'algorithme pour différentes valeurs de Nₓ et à une valeur de Nₜ fixée, en traçant la fonction $Nₓ \\mapsto t(Nₓ,Nₜ)/Nₓ\\log(Nₓ)$."
   ]
  },
  {
   "cell_type": "code",
   "execution_count": null,
   "metadata": {},
   "outputs": [],
   "source": [
    "ComplexiteSpace = Float64[]\n",
    "VectNₓ = 10:1:1001\n",
    "Nₜ = 1\n",
    "M = 100\n",
    "t₁ = @elapsed (dynamics(Nₓ=2, Nₜ=Nₜ))\n",
    "for Nₓ in VectNₓ\n",
    "    t = 0\n",
    "    for _ in 1:M\n",
    "        t+= @elapsed (dynamics(Nₓ=Nₓ, Nₜ=Nₜ))\n",
    "    end\n",
    "    push!(ComplexiteSpace, t/(M*t₁))\n",
    "end\n",
    "\n",
    "plot(VectNₓ[2:end],ComplexiteSpace[2:end])\n",
    "plot!(VectNₓ[2:end], VectNₓ[2:end].* log.(VectNₓ[2:end])*t₁)"
   ]
  },
  {
   "cell_type": "markdown",
   "metadata": {},
   "source": [
    "## Conservation de la densité de probabilité\n",
    "\n",
    "Nous pouvons vérfier que notre solution $ψ$ est de norme L₂ en espace au carré constante égale à 1 au cours du temps. En fait, nous allons plutôt vérifier $\\frac{||ψ(t)||_2}{||ψ₀||_2} - 1= 0$ pour temps $t\\in[0,T]$ car du fait de la troncature à l'intervale $[-L/2,L/2]$, la norme L₂ de la solution initiale peut être inférieur à 1, comme c'est le cas pour la gaussienne."
   ]
  },
  {
   "cell_type": "code",
   "execution_count": null,
   "metadata": {},
   "outputs": [],
   "source": [
    "# Paramètres de simulation\n",
    "T = 50\n",
    "L = 10\n",
    "Nₜ = 1000\n",
    "Nₓ = 1000\n",
    "\n",
    "# Potential\n",
    "V = (x,t) -> 0\n",
    "\n",
    "# Intial Condition\n",
    "ψ₀ = gaussian()\n",
    "\n",
    "# Computation of the dynamics\n",
    "sol = dynamics(ψ₀, V, L = L, Nₓ=Nₓ,T=T,Nₜ=Nₜ)\n",
    "\n",
    "norm₂ψ₀ = norm(sol[:,1])\n",
    "plot(range(0,T,Nₜ), [norm(sol[:,i]) / norm₂ψ₀ for i in 1:Nₜ].-1, label = L\"\\frac{||ψ(t)||_2}{||ψ_0||_2}-1\")\n",
    "xlabel!(L\"T\")"
   ]
  },
  {
   "cell_type": "markdown",
   "metadata": {},
   "source": [
    "On remarque que étant donné, l'échelle en abscisse que l'amplitude de probablité $||ψ(t)||^2_2$ est conservé au cours du temps. Cependant l'erreur commise par le schéma suit clairement une tendance qui pourrait être à très long termes un problème. Cela est due à la transformée de Fourier et son inverse qui commette une erreur de par l'approximation finie des séries de fourier employées."
   ]
  },
  {
   "cell_type": "markdown",
   "metadata": {},
   "source": [
    "## Comparaison avec une solution analytique (en cours)\n",
    "\n",
    "On peut également comparé la solution numérique avec la solution quasi-exacte connue dans le cas d'une condition initiale gaussienne et un champ de potentiel nul."
   ]
  },
  {
   "cell_type": "code",
   "execution_count": null,
   "metadata": {},
   "outputs": [],
   "source": [
    "# Paramètres de simulation\n",
    "T = 10\n",
    "L = 10\n",
    "Nₜ = 100\n",
    "Nₓ = 100\n",
    "\n",
    "#\n",
    "V = (x,t) -> 0\n",
    "ψ₀(x) = 1/(sqrt(2π))*exp(-x^2)\n",
    "\n",
    "sol = dynamics(ψ₀, V, L = L, Nₓ=Nₓ,T=T,Nₜ=Nₜ)\n",
    "\n",
    "\n",
    "α(t) = im*(2π/L)^2*t + 1/4\n",
    "C(t) = sqrt(α(t))/(sqrt(π))\n",
    "ψₜᵣᵤₑ(x,t) = C(t)*exp(-x^2/(4*α(t)))\n",
    "\n",
    "animation(sol; L = L)"
   ]
  }
 ],
 "metadata": {
  "kernelspec": {
   "display_name": "Julia 1.8.5",
   "language": "julia",
   "name": "julia-1.8"
  },
  "language_info": {
   "file_extension": ".jl",
   "mimetype": "application/julia",
   "name": "julia",
   "version": "1.8.5"
  },
  "orig_nbformat": 4
 },
 "nbformat": 4,
 "nbformat_minor": 2
}
